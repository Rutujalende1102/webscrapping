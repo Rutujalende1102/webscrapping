{
 "cells": [
  {
   "cell_type": "code",
   "execution_count": 1,
   "id": "da8d52d3-bb48-4cb9-94af-6b8fc7f6d6e1",
   "metadata": {},
   "outputs": [
    {
     "name": "stdout",
     "output_type": "stream",
     "text": [
      "Requirement already satisfied: bs4 in c:\\users\\hp\\anaconda3\\lib\\site-packages (0.0.2)\n",
      "Requirement already satisfied: beautifulsoup4 in c:\\users\\hp\\anaconda3\\lib\\site-packages (from bs4) (4.12.3)\n",
      "Requirement already satisfied: soupsieve>1.2 in c:\\users\\hp\\anaconda3\\lib\\site-packages (from beautifulsoup4->bs4) (2.5)\n"
     ]
    }
   ],
   "source": [
    "!pip install bs4"
   ]
  },
  {
   "cell_type": "code",
   "execution_count": 2,
   "id": "8bc031be-6aaf-44fb-832c-830f2312b7b9",
   "metadata": {},
   "outputs": [],
   "source": [
    "import requests\n",
    "from bs4 import BeautifulSoup"
   ]
  },
  {
   "cell_type": "code",
   "execution_count": 3,
   "id": "07afe026-c0cd-431f-88ef-fd3dbc3fe435",
   "metadata": {},
   "outputs": [
    {
     "data": {
      "text/plain": [
       "<Response [403]>"
      ]
     },
     "execution_count": 3,
     "metadata": {},
     "output_type": "execute_result"
    }
   ],
   "source": [
    "response=requests.get(\"https://www.flipkart.com/laptops-store?otracker=nmenu_sub_Electronics_0_Laptops\")\n",
    "response"
   ]
  },
  {
   "cell_type": "code",
   "execution_count": 4,
   "id": "19205aea-c82f-40e6-bfdb-d9ec4bb84a35",
   "metadata": {},
   "outputs": [
    {
     "data": {
      "text/plain": [
       "b'<!DOCTYPE html>\\n<html lang=\"en\">\\n\\n<head>\\n    <meta charset=\"UTF-8\">\\n    <meta name=\"viewport\" content=\"width=device-width, initial-scale=1.0\">\\n    <title>Flipkart reCAPTCHA</title>\\n    <style>\\n       '"
      ]
     },
     "execution_count": 4,
     "metadata": {},
     "output_type": "execute_result"
    }
   ],
   "source": [
    "# fetching the content\n",
    "data=response.content\n",
    "type(data)\n",
    "data[:200]"
   ]
  },
  {
   "cell_type": "code",
   "execution_count": 9,
   "id": "c7917714-d986-405f-aaa5-1413b5aeafa0",
   "metadata": {},
   "outputs": [
    {
     "data": {
      "text/plain": [
       "bs4.BeautifulSoup"
      ]
     },
     "execution_count": 9,
     "metadata": {},
     "output_type": "execute_result"
    }
   ],
   "source": [
    "bs=BeautifulSoup(data)\n",
    "type(bs)"
   ]
  },
  {
   "cell_type": "code",
   "execution_count": 11,
   "id": "241eaf37-24b5-4ac3-8674-c8d243edcd92",
   "metadata": {},
   "outputs": [
    {
     "data": {
      "text/plain": [
       "<function bytes.title>"
      ]
     },
     "execution_count": 11,
     "metadata": {},
     "output_type": "execute_result"
    }
   ],
   "source": [
    "data.title"
   ]
  },
  {
   "cell_type": "code",
   "execution_count": 13,
   "id": "c010f146-6824-4c34-8b13-8f4c5a920d1c",
   "metadata": {},
   "outputs": [
    {
     "data": {
      "text/plain": [
       "[<h1 class=\"header\">Are you a human?</h1>]"
      ]
     },
     "execution_count": 13,
     "metadata": {},
     "output_type": "execute_result"
    }
   ],
   "source": [
    "title=bs.find_all(\"h1\")\n",
    "title"
   ]
  },
  {
   "cell_type": "code",
   "execution_count": null,
   "id": "b7290d82-6ac5-4bef-a34b-2f6396b89ec8",
   "metadata": {},
   "outputs": [],
   "source": [
    "sub_tags2 = bs.find_all('span', class_=\"mw-headline\")\n",
    "sub_tags2"
   ]
  },
  {
   "cell_type": "code",
   "execution_count": null,
   "id": "685c45ff-506f-4840-abef-3809b787b648",
   "metadata": {},
   "outputs": [],
   "source": [
    "sub_title_list[1].text "
   ]
  },
  {
   "cell_type": "code",
   "execution_count": null,
   "id": "f1d7fa59-1099-4f06-b659-53a43954d2cd",
   "metadata": {},
   "outputs": [],
   "source": [
    "sub_title_list=[]\n",
    "for i in sub_title:\n",
    "    sub_title_list.append(i.text)"
   ]
  },
  {
   "cell_type": "code",
   "execution_count": 25,
   "id": "a5ec74a9-3ffb-49af-8dc5-4c3db357165f",
   "metadata": {},
   "outputs": [
    {
     "data": {
      "text/plain": [
       "[]"
      ]
     },
     "execution_count": 25,
     "metadata": {},
     "output_type": "execute_result"
    }
   ],
   "source": [
    "sub_title_list"
   ]
  },
  {
   "cell_type": "code",
   "execution_count": 27,
   "id": "6b1bcb71-cf9e-46bd-a9ce-720f7a98a6d2",
   "metadata": {},
   "outputs": [
    {
     "data": {
      "text/plain": [
       "0"
      ]
     },
     "execution_count": 27,
     "metadata": {},
     "output_type": "execute_result"
    }
   ],
   "source": [
    "span_ =bs.find_all('span',class_=\"hide-when-compact\")\n",
    "len(span_)"
   ]
  },
  {
   "cell_type": "code",
   "execution_count": 47,
   "id": "ce2ae941-eae7-4d9f-b284-19a8208e490a",
   "metadata": {},
   "outputs": [],
   "source": [
    "img_tags=bs.find_all('img')"
   ]
  },
  {
   "cell_type": "code",
   "execution_count": 49,
   "id": "f03e008e-ecdd-4255-b76f-01444b410c79",
   "metadata": {},
   "outputs": [
    {
     "data": {
      "text/plain": [
       "[<img alt=\"Flipkart Logo\" class=\"logo\" src=\"https://rukminim1.flixcart.com/www/60/60/promos/14/06/2024/88011666-ce1d-40f0-a8eb-1bac7d164885.png?q=60\"/>]"
      ]
     },
     "execution_count": 49,
     "metadata": {},
     "output_type": "execute_result"
    }
   ],
   "source": [
    "img_tags"
   ]
  },
  {
   "cell_type": "code",
   "execution_count": 51,
   "id": "27c23b8e-47b4-4cf9-b410-97c7d183c3f6",
   "metadata": {},
   "outputs": [
    {
     "data": {
      "text/plain": [
       "1"
      ]
     },
     "execution_count": 51,
     "metadata": {},
     "output_type": "execute_result"
    }
   ],
   "source": [
    "len(img_tags)"
   ]
  },
  {
   "cell_type": "code",
   "execution_count": 53,
   "id": "45e62d22-c675-47e6-8d82-34c67598f10b",
   "metadata": {},
   "outputs": [
    {
     "data": {
      "text/plain": [
       "'https://rukminim1.flixcart.com/www/60/60/promos/14/06/2024/88011666-ce1d-40f0-a8eb-1bac7d164885.png?q=60'"
      ]
     },
     "execution_count": 53,
     "metadata": {},
     "output_type": "execute_result"
    }
   ],
   "source": [
    "img_tags[0].get('src')"
   ]
  },
  {
   "cell_type": "code",
   "execution_count": 57,
   "id": "790dbf54-ea27-4604-b569-d088622d2c0e",
   "metadata": {},
   "outputs": [
    {
     "data": {
      "text/plain": [
       "[]"
      ]
     },
     "execution_count": 57,
     "metadata": {},
     "output_type": "execute_result"
    }
   ],
   "source": [
    "a_tags = bs.find_all('a',class_='')\n",
    "a_tags"
   ]
  },
  {
   "cell_type": "code",
   "execution_count": 37,
   "id": "6c242ff0-0b79-468a-972f-5487fe4c4078",
   "metadata": {
    "scrolled": true
   },
   "outputs": [
    {
     "data": {
      "text/plain": [
       "[<p class=\"subText\">Confirming...</p>]"
      ]
     },
     "execution_count": 37,
     "metadata": {},
     "output_type": "execute_result"
    }
   ],
   "source": [
    "p_tags = bs.find_all('p')\n",
    "p_tags[:5]"
   ]
  },
  {
   "cell_type": "code",
   "execution_count": 39,
   "id": "9aadc4f8-3b47-4d99-baf9-22aa9280cc1a",
   "metadata": {},
   "outputs": [
    {
     "data": {
      "text/plain": [
       "1"
      ]
     },
     "execution_count": 39,
     "metadata": {},
     "output_type": "execute_result"
    }
   ],
   "source": [
    "p_tags = bs.find_all('p')\n",
    "len(p_tags)"
   ]
  },
  {
   "cell_type": "code",
   "execution_count": 45,
   "id": "fbcbcd85-88db-45e3-a0a0-05fddc8d54ff",
   "metadata": {
    "scrolled": true
   },
   "outputs": [
    {
     "data": {
      "text/plain": [
       "'/docs/terms.htmlConfirming...'"
      ]
     },
     "execution_count": 45,
     "metadata": {},
     "output_type": "execute_result"
    }
   ],
   "source": [
    "p_str=\"/docs/terms.html\"\n",
    "for i in p_tags:\n",
    "    p_str=p_str+i.text\n",
    "p_str"
   ]
  },
  {
   "cell_type": "code",
   "execution_count": null,
   "id": "73479bdd-3f6f-4507-bd3d-3c4534dfa91b",
   "metadata": {},
   "outputs": [],
   "source": [
    "for i in p_tags: html_content =html_content + i.text\n",
    "print(html_content)"
   ]
  },
  {
   "cell_type": "code",
   "execution_count": null,
   "id": "72ef7b5c-da60-4b1b-a25d-c6bef9da40e3",
   "metadata": {
    "scrolled": true
   },
   "outputs": [],
   "source": [
    "print(html_content)"
   ]
  },
  {
   "cell_type": "code",
   "execution_count": null,
   "id": "de02cd5c-49b8-43a0-92ac-af66ff01be68",
   "metadata": {},
   "outputs": [],
   "source": [
    "import os\n",
    "os.chdir(r\"C:\\Webscraping\")"
   ]
  },
  {
   "cell_type": "code",
   "execution_count": null,
   "id": "f344d4c6-be1b-45e7-b634-87c34a7fa7c8",
   "metadata": {},
   "outputs": [],
   "source": []
  },
  {
   "cell_type": "code",
   "execution_count": null,
   "id": "0b9b1bd1-e28a-4be1-a999-48a387ac6aa0",
   "metadata": {},
   "outputs": [],
   "source": [
    "with open('WorldPopContent.txt', 'w', encoding='utf-8') as file1:\n",
    "    file1.write(html_content)"
   ]
  },
  {
   "cell_type": "code",
   "execution_count": null,
   "id": "0fd91f63-f5c9-49fa-87fd-099dfe036038",
   "metadata": {},
   "outputs": [],
   "source": [
    "html_content"
   ]
  },
  {
   "cell_type": "code",
   "execution_count": null,
   "id": "7d318ca8-019c-4940-8db2-6ebda39a2b24",
   "metadata": {},
   "outputs": [],
   "source": [
    "img_tags=bs.find_all('img')"
   ]
  },
  {
   "cell_type": "code",
   "execution_count": null,
   "id": "66d469c5-9377-46e6-a43d-442591c6d1e5",
   "metadata": {},
   "outputs": [],
   "source": [
    "img_tags"
   ]
  },
  {
   "cell_type": "code",
   "execution_count": null,
   "id": "db356183-7a66-4fd4-b239-29c37ecf70cc",
   "metadata": {},
   "outputs": [],
   "source": [
    "img_tags[0].get('src')"
   ]
  },
  {
   "cell_type": "code",
   "execution_count": null,
   "id": "598d5b00-4be2-478d-b7eb-c4b93f4fc24c",
   "metadata": {},
   "outputs": [],
   "source": [
    "img_tags[2].get('src')"
   ]
  },
  {
   "cell_type": "code",
   "execution_count": null,
   "id": "82ea1b83-1ad9-41a9-8b84-80907a506b2b",
   "metadata": {},
   "outputs": [],
   "source": [
    "a_tags = bs.find_all('a', class_=\"mw-file-description\")\n",
    "a_tags"
   ]
  },
  {
   "cell_type": "code",
   "execution_count": null,
   "id": "0a2b6ab1-cc9e-4ac2-aad5-7b215f66fed7",
   "metadata": {},
   "outputs": [],
   "source": [
    "a_tags[0]"
   ]
  },
  {
   "cell_type": "code",
   "execution_count": null,
   "id": "d3d7c9ca-71e0-4e85-8cfb-98ecd05d16a6",
   "metadata": {},
   "outputs": [],
   "source": [
    "a_tags[2].get('href')"
   ]
  },
  {
   "cell_type": "code",
   "execution_count": null,
   "id": "51a50203-efeb-4a6b-a038-a444c7d388e9",
   "metadata": {},
   "outputs": [],
   "source": [
    "url"
   ]
  },
  {
   "cell_type": "code",
   "execution_count": null,
   "id": "5c27ba2d-983f-4d17-8200-0c402d9753f9",
   "metadata": {},
   "outputs": [],
   "source": [
    "''+ a_tags[-1].get('href')"
   ]
  },
  {
   "cell_type": "code",
   "execution_count": 80,
   "id": "45f34aa8-4678-42b5-b448-8f03c472c718",
   "metadata": {},
   "outputs": [],
   "source": [
    "images = []\n",
    "for i in a_tags:\n",
    "    img_link = 'https://en.wikipedia.org' + i.get('href')\n",
    "    images.append(img_link)\n",
    "    "
   ]
  },
  {
   "cell_type": "code",
   "execution_count": 82,
   "id": "6268168d-1d9c-4397-a5c7-0bd033a1435d",
   "metadata": {},
   "outputs": [
    {
     "data": {
      "text/plain": [
       "[]"
      ]
     },
     "execution_count": 82,
     "metadata": {},
     "output_type": "execute_result"
    }
   ],
   "source": [
    "images"
   ]
  },
  {
   "cell_type": "code",
   "execution_count": 71,
   "id": "cb33cb07-8267-40ef-a3af-792a1d5eddea",
   "metadata": {},
   "outputs": [],
   "source": [
    "table_tags = bs.find_all('table', class_='flipkart')"
   ]
  },
  {
   "cell_type": "code",
   "execution_count": 73,
   "id": "360b9489-da30-479a-bc96-dbc3b5070557",
   "metadata": {},
   "outputs": [
    {
     "data": {
      "text/plain": [
       "0"
      ]
     },
     "execution_count": 73,
     "metadata": {},
     "output_type": "execute_result"
    }
   ],
   "source": [
    "len(table_tags)"
   ]
  },
  {
   "cell_type": "code",
   "execution_count": null,
   "id": "0a72c131-fe60-4cc1-8a7d-baecf8678e72",
   "metadata": {},
   "outputs": [],
   "source": [
    "table_tags[0]"
   ]
  },
  {
   "cell_type": "code",
   "execution_count": null,
   "id": "bef2cf0d-6c3f-408d-91a5-704bcfa91962",
   "metadata": {},
   "outputs": [],
   "source": [
    "headers = [head.text.strip() for head in table_tags[0].find_all('th')]\n",
    "headers"
   ]
  },
  {
   "cell_type": "code",
   "execution_count": null,
   "id": "42494013-9d70-43cd-8e0d-af9be695617c",
   "metadata": {},
   "outputs": [],
   "source": [
    "rows = []\n",
    "for row in table_tags[0].find_all('tr'):\n",
    "    entry = [val.text.strip() for val in row.find_all('td')]\n",
    "    if len(entry)!=0:\n",
    "        rows.append(entry)"
   ]
  },
  {
   "cell_type": "code",
   "execution_count": 79,
   "id": "e46d34ab-e8e2-4f91-8ac2-963cb49eff50",
   "metadata": {},
   "outputs": [
    {
     "data": {
      "text/plain": [
       "[]"
      ]
     },
     "execution_count": 79,
     "metadata": {},
     "output_type": "execute_result"
    }
   ],
   "source": [
    "rows"
   ]
  },
  {
   "cell_type": "code",
   "execution_count": null,
   "id": "72c6fa27-ce71-441b-863c-f5f4699c1ba2",
   "metadata": {},
   "outputs": [],
   "source": []
  }
 ],
 "metadata": {
  "kernelspec": {
   "display_name": "Python 3 (ipykernel)",
   "language": "python",
   "name": "python3"
  },
  "language_info": {
   "codemirror_mode": {
    "name": "ipython",
    "version": 3
   },
   "file_extension": ".py",
   "mimetype": "text/x-python",
   "name": "python",
   "nbconvert_exporter": "python",
   "pygments_lexer": "ipython3",
   "version": "3.12.4"
  }
 },
 "nbformat": 4,
 "nbformat_minor": 5
}
